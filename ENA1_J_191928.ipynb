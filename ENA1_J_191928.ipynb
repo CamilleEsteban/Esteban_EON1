{
 "cells": [
  {
   "cell_type": "markdown",
   "metadata": {},
   "source": [
    "### Turning Tables"
   ]
  },
  {
   "cell_type": "code",
   "execution_count": 6,
   "metadata": {
    "scrolled": true
   },
   "outputs": [
    {
     "name": "stdout",
     "output_type": "stream",
     "text": [
      "Enter number of rows:5\n",
      "<table>\n",
      "class=lightyellowrow><td1></td><td1</td></tr>\n",
      "class=whiterow><td2></td><td4</td></tr>\n",
      "class=lightyellowrow><td3></td><td9</td></tr>\n",
      "class=whiterow><td4></td><td16</td></tr>\n",
      "class=lightyellowrow><td5></td><td25</td></tr>\n",
      "</table>\n"
     ]
    }
   ],
   "source": [
    "rows= int(input(\"Enter number of rows:\"))\n",
    "print(\"<table>\")\n",
    "for a in range(0,rows):\n",
    "    a=a+1\n",
    "    if a%2==0:\n",
    "        row_color= \"whiterow\"\n",
    "    else:\n",
    "        row_color= \"lightyellowrow\"\n",
    "    second_box= str(a**2)\n",
    "    print(\"class=\",row_color,\"><td\",a,\"></td><td\",second_box,\"</td></tr>\",sep=\"\")\n",
    "print(\"</table>\")"
   ]
  },
  {
   "cell_type": "markdown",
   "metadata": {},
   "source": [
    "### Dating Norms"
   ]
  },
  {
   "cell_type": "code",
   "execution_count": 12,
   "metadata": {},
   "outputs": [
    {
     "name": "stdout",
     "output_type": "stream",
     "text": [
      "day:31\n",
      "month:2\n",
      "year:2020\n",
      "This date is not valid\n"
     ]
    }
   ],
   "source": [
    "day = int(input(\"day:\" ))\n",
    "month = int(input(\"month:\"))\n",
    "year = int(input(\"year:\"))\n",
    "months= [\"January\",\"Febuary\",\"March\",\"April\",\"May\",\"June\",\"July\",\"August\",\"September\",\"October\",\"November\",\"December\"]\n",
    "months_31= [1,3,5,7,8,10,12]\n",
    "if (month>12 or day>31)or (month not in months_31 and day==31):\n",
    "    print(\"This date is not valid\")\n",
    "elif month ==2 and ((year%4==0 and day>29)or day>28):\n",
    "    print(\"This date is not valid\")\n",
    "else:  \n",
    "    if day ==13 or day ==11 or day==12:\n",
    "        suffix = \"th\"\n",
    "    elif day%10==1:\n",
    "        suffix=\"st\"\n",
    "    elif day%10==2:\n",
    "        suffix=\"nd\"\n",
    "    elif day%10==3:\n",
    "        suffix=\"rd\"\n",
    "    else:\n",
    "        suffix=\"th\"\n",
    "    print(\"It is the\",day,suffix,\"of the month of\",months[month-1],\"of the year\", year)"
   ]
  },
  {
   "cell_type": "code",
   "execution_count": 26,
   "metadata": {},
   "outputs": [
    {
     "data": {
      "text/plain": [
       "True"
      ]
     },
     "execution_count": 26,
     "metadata": {},
     "output_type": "execute_result"
    }
   ],
   "source": [
    "def obedient(a):\n",
    "    return a%3==0\n",
    "obedient(90)"
   ]
  },
  {
   "cell_type": "code",
   "execution_count": 33,
   "metadata": {},
   "outputs": [
    {
     "name": "stdout",
     "output_type": "stream",
     "text": [
      "1\t2\t3\t4\t\n",
      "2\t4\t6\t8\t\n",
      "3\t6\t9\t12\t\n",
      "4\t8\t12\t16\t\n"
     ]
    }
   ],
   "source": [
    "def multable(a):\n",
    "    for i in range(1,a+1):\n",
    "        for j in range(1,a+1):\n",
    "            print(j*i, end=\"\\t\")\n",
    "        print(\"\")\n",
    "multable(4)"
   ]
  },
  {
   "cell_type": "code",
   "execution_count": null,
   "metadata": {},
   "outputs": [],
   "source": [
    "while True:\n",
    "    Q1=input(\"Do you prefer (a) the mountains, (b) the city, or (c) the beach?\")\n",
    "    if Q1 not in [\"a\",\"b\",\"c\"]:\n",
    "        print(\"Sorry, you inputted a wrong letter. Please start again.\")\n",
    "        continue\n",
    "    Q2=input(\"Do you prefer (a) yoghurt, (b) ice cream, or (c) gelato?\")\n",
    "    if Q2 not in [\"a\",\"b\",\"c\"]:\n",
    "        print(\"Sorry, you inputted a wrong letter. Please start again.\")\n",
    "        continue\n",
    "    Q3=input(\"Do you prefer (a) reading, (b) singing, or (c) writing?\")\n",
    "    if Q3 not in [\"a\",\"b\",\"c\"]:\n",
    "        print(\"Sorry, you inputted a wrong letter. Please start again.\")\n",
    "        continue\n",
    "    Q4=input(\"Do you prefer (a) sweet, (b) salty, or (c) spicy food?\")\n",
    "    if Q4 not in [\"a\",\"b\",\"c\"]:\n",
    "        print(\"Sorry, you inputted a wrong letter. Please start again.\")\n",
    "        continue\n",
    "    Q5=input(\"Do you prefer (a) cats, (b) dogs, or (c) fish?\")\n",
    "    if Q5 not in [\"a\",\"b\",\"c\"]:\n",
    "        print(\"Sorry, you inputted a wrong letter. Please start again.\")\n",
    "        continue\n",
    "    Earth= Q1==\"b\"+ Q2==\"a\"+Q3==\"c\"+Q4==\"a\"+Q5==\"a\"\n",
    "    Fire= Q1==\"a\"+ Q2==\"c\"+Q3==\"b\"+Q4==\"c\"+Q5==\"b\"\n",
    "    Water=Q1==\"c\"+ Q2==\"b\"+Q3==\"a\"+Q4==\"b\"+Q5==\"c\"\n",
    "    \n",
    "    if Earth > Fire and Earth> Water:\n",
    "        print(\"Your element is Earth\")\n",
    "    elif Fire> Earth and Fire>Water:\n",
    "        print(\"Your element is Fire\")\n",
    "    elif Water> Earth and Water>Fire:\n",
    "        print(\"Your element is Water\")\n",
    "    elif Fire==Water:\n",
    "        print(\"Your element is Fire\")\n",
    "    elif Water==Earth:\n",
    "        print(\"Your Element is Water\")\n",
    "    else:\n",
    "        print(\"Your Element is Earth\")     \n",
    "    break\n"
   ]
  },
  {
   "cell_type": "code",
   "execution_count": null,
   "metadata": {},
   "outputs": [],
   "source": []
  },
  {
   "cell_type": "code",
   "execution_count": null,
   "metadata": {},
   "outputs": [],
   "source": []
  }
 ],
 "metadata": {
  "kernelspec": {
   "display_name": "Python 3",
   "language": "python",
   "name": "python3"
  },
  "language_info": {
   "codemirror_mode": {
    "name": "ipython",
    "version": 3
   },
   "file_extension": ".py",
   "mimetype": "text/x-python",
   "name": "python",
   "nbconvert_exporter": "python",
   "pygments_lexer": "ipython3",
   "version": "3.7.6"
  }
 },
 "nbformat": 4,
 "nbformat_minor": 4
}
